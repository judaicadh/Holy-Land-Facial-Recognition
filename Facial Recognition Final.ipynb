{
 "cells": [
  {
   "cell_type": "code",
   "execution_count": 46,
   "metadata": {},
   "outputs": [],
   "source": [
    "import numpy\n",
    "from PIL import Image\n",
    "import os\n",
    "import sys\n",
    "import cv2\n",
    "import csv\n",
    "import glob"
   ]
  },
  {
   "cell_type": "code",
   "execution_count": 47,
   "metadata": {},
   "outputs": [
    {
     "name": "stdout",
     "output_type": "stream",
     "text": [
      "['/Volumes/My Passport/BOX_20/1355.tif']\n"
     ]
    }
   ],
   "source": [
    "dirlist1 = glob.glob(\"/Volumes/My Passport/BOX_20/1355.tif\")\n",
    "from pprint import pprint\n",
    "pprint(dirlist1)"
   ]
  },
  {
   "cell_type": "code",
   "execution_count": 51,
   "metadata": {},
   "outputs": [
    {
     "name": "stdout",
     "output_type": "stream",
     "text": [
      "/Volumes/My Passport/BOX_20/1355.tif\n"
     ]
    }
   ],
   "source": [
    "for filename in dirlist1[:2]: \n",
    "    print filename\n",
    "    cv2.useOptimized()\n",
    "    facedata = cv2.CascadeClassifier('/anaconda/pkgs/opencv-2.4.8-np17py27_2/share/OpenCV/haarcascades/haarcascade_frontalface_default.xml') \n",
    "    eye_cascade = cv2.CascadeClassifier('/anaconda/pkgs/opencv-2.4.8-np17py27_2/share/OpenCV/haarcascades/haarcascade_eye.xml')\n",
    "    objImage=cv2.imread(filename)\n",
    "    img = cv2.imread(filename)\n",
    "    #minisize = (img.shape[1],img.shape[0])\n",
    "    #miniframe = cv2.resize(img, minisize)\n",
    "\n",
    "    faces = facedata.detectMultiScale(img)\n",
    "    eyes = eye_cascade.detectMultiScale(img)\n",
    "    hst = str(filename)\n",
    "    cvtImage=cv2.cvtColor(objImage,cv2.COLOR_BGR2GRAY)\n",
    "    foundFaces=facedata.detectMultiScale(cvtImage,scaleFactor=1.3,minNeighbors=9,minSize=(1,1),flags = cv2.cv.CV_HAAR_SCALE_IMAGE)\n",
    "    for f in foundFaces:\n",
    "        x, y, w, h = [ v for v in f ]\n",
    "        cut = cv2.rectangle(cvtImage, (x,y), (x+w,y+h), (255, 0, 4, 0))\n",
    "        sub_face = img[y:y+h, x:x+w]\n",
    "        cvtEyes=cv2.cvtColor(sub_face,cv2.COLOR_BGR2GRAY)\n",
    "        eyes = eye_cascade.detectMultiScale(cvtEyes)\n",
    "        for (ex,ey,ew,eh) in eyes:\n",
    "            cv2.rectangle(cvtEyes,(ex,ey),(ex+ew,ey+eh), (255, 0, 4, 0))\n",
    "            facefile = os.path.split(filename)\n",
    "            for tail in facefile:\n",
    "                tail = os.path.splitext(tail)\n",
    "                face_file_name = \"projects/holyland/\" + str(tail) + str(y) + \".png\"\n",
    "                resized_image = cv2.resize(cvtImage, (700, 700))  \n",
    "                cv2.imwrite(face_file_name, cv2.resize(sub_face, (700, 700), fx=2, fy=2))\n",
    "                print((len(foundFaces)))"
   ]
  },
  {
   "cell_type": "code",
   "execution_count": null,
   "metadata": {
    "collapsed": true
   },
   "outputs": [],
   "source": []
  },
  {
   "cell_type": "code",
   "execution_count": null,
   "metadata": {
    "collapsed": true
   },
   "outputs": [],
   "source": []
  }
 ],
 "metadata": {
  "anaconda-cloud": {},
  "kernelspec": {
   "display_name": "Python 2",
   "language": "python",
   "name": "python2"
  },
  "language_info": {
   "codemirror_mode": {
    "name": "ipython",
    "version": 2
   },
   "file_extension": ".py",
   "mimetype": "text/x-python",
   "name": "python",
   "nbconvert_exporter": "python",
   "pygments_lexer": "ipython2",
   "version": "2.7.13"
  }
 },
 "nbformat": 4,
 "nbformat_minor": 1
}
